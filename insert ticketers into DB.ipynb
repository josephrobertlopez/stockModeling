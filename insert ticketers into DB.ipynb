{
 "cells": [
  {
   "cell_type": "code",
   "execution_count": 1,
   "metadata": {},
   "outputs": [],
   "source": [
    "from sqlite_methods import *\n",
    "import os\n",
    "import pandas as pd"
   ]
  },
  {
   "cell_type": "code",
   "execution_count": 2,
   "metadata": {},
   "outputs": [],
   "source": [
    "def insert_snp500_symbols(con,symbols):\n",
    "    \"\"\"\n",
    "    Insert the S&P500 symbols into the MySQL database.\n",
    "    \"\"\"\n",
    "    clean_strs_for_DB_query(symbols)\n",
    "    table_vars = [\"exchange_id\",\"ticketer\",\"instrument\",\"name\",\"sector\",\"industry\",\"currency\",\"created_date\",\"last_updated_date\"]\n",
    "    insert_row_query(con,\"symbol\",table_vars,symbols)"
   ]
  },
  {
   "cell_type": "code",
   "execution_count": 3,
   "metadata": {},
   "outputs": [
    {
     "name": "stdout",
     "output_type": "stream",
     "text": [
      "no such column: nan\n",
      "no such column: nan\n",
      "near \"s\": syntax error\n",
      "near \"s\": syntax error\n",
      "near \"s\": syntax error\n",
      "near \"s\": syntax error\n",
      "near \"Reilly\": syntax error\n",
      "near \"s\": syntax error\n"
     ]
    }
   ],
   "source": [
    "ticketers = os.listdir('snp500')\n",
    "con = create_connection()\n",
    "for ticket in ticketers:\n",
    "    df = pd.read_csv(\"snp500/\"+ticket+\"/ticker.csv\")\n",
    "    df=df.transpose()\n",
    "    df.columns = df.iloc[0]\n",
    "    df = df[1:]\n",
    "    exchange='NYSE'\n",
    "    instrument=\"Stock\"\n",
    "    variables = ['sector','industry','currency','shortName','symbol']\n",
    "    for i,v in enumerate(variables):\n",
    "        try:\n",
    "            variables[i] = df[[v]].values[0][0]\n",
    "        except:\n",
    "            variables[i] = ''\n",
    "    \n",
    "    sector,industry,currency,name,symbol = variables\n",
    "    now = datetime.datetime.now()\n",
    "    now = datetime_to_timestamp(now)\n",
    "    symbols = [exchange,symbol,instrument,name,sector,industry,currency,now,now]\n",
    "    insert_snp500_symbols(con,symbols)"
   ]
  },
  {
   "cell_type": "code",
   "execution_count": null,
   "metadata": {},
   "outputs": [],
   "source": []
  }
 ],
 "metadata": {
  "kernelspec": {
   "display_name": "Python 3",
   "language": "python",
   "name": "python3"
  },
  "language_info": {
   "codemirror_mode": {
    "name": "ipython",
    "version": 3
   },
   "file_extension": ".py",
   "mimetype": "text/x-python",
   "name": "python",
   "nbconvert_exporter": "python",
   "pygments_lexer": "ipython3",
   "version": "3.8.5"
  }
 },
 "nbformat": 4,
 "nbformat_minor": 4
}
