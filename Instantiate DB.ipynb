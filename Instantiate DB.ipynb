{
 "cells": [
  {
   "cell_type": "code",
   "execution_count": 1,
   "metadata": {},
   "outputs": [],
   "source": [
    "#DB without server\n",
    "import sqlite3\n",
    "#error management\n",
    "from sqlite3 import Error\n",
    "from sqlite_methods import *\n",
    "#modify db"
   ]
  },
  {
   "cell_type": "code",
   "execution_count": 2,
   "metadata": {},
   "outputs": [],
   "source": [
    "exchange = \"\"\"CREATE TABLE IF NOT EXISTS exchange (\n",
    "    id INTEGER PRIMARY KEY AUTOINCREMENT NOT NULL,\n",
    "    abbrev varchar(32) NOT NULL,\n",
    "    name varchar(255) NOT NULL,\n",
    "    city varchar(255) NULL,\n",
    "    country varchar(255) NULL,\n",
    "    currency varchar(64) NULL,\n",
    "    timezone_offset INTEGER NULL, \n",
    "    created_date INTEGER NOT NULL,\n",
    "    last_updated_date INTEGER NOT NULL);\"\"\"\n",
    "data_vendor = \"\"\"\n",
    "CREATE TABLE IF NOT EXISTS data_vendor (\n",
    "    id INTEGER PRIMARY KEY AUTOINCREMENT NOT NULL,\n",
    "    name varchar(64) NOT NULL,\n",
    "    website_url varchar(255) NULL,\n",
    "    support_email varchar(255) NULL,\n",
    "    created_date INTEGER NOT NULL,\n",
    "    last_updated_date INTEGER NOT NULL);\"\"\"\n",
    "symbol = \"\"\"\n",
    "CREATE TABLE IF NOT EXISTS symbol(\n",
    "    id INTEGER PRIMARY KEY AUTOINCREMENT NOT NULL,\n",
    "    exchange_id KEY INTEGER NULL,\n",
    "    ticketer varchar(32) NOT NULL,\n",
    "    instrument varchar(64) NOT NULL,\n",
    "    name varchar(255) NULL,\n",
    "    sector varchar(255) NULL,\n",
    "    industry varchar(255) NULL,\n",
    "    currency varchar(32) NULL,\n",
    "    created_date INTEGER NOT NULL,\n",
    "    last_updated_date INTEGER NOT NULL);\n",
    "\"\"\"\n",
    "daily_price = \"\"\"\n",
    "CREATE TABLE IF NOT EXISTS daily_price(\n",
    "    id INTEGER PRIMARY KEY AUTOINCREMENT NOT NULL,\n",
    "    data_vendor_id KEY INTEGER NOT NULL,\n",
    "    symbol_id KEY INTEGER NOT NULL,\n",
    "    price_date INTEGER NOT NULL,\n",
    "    created_date INTEGER NOT NULL,\n",
    "    last_updated_date INTEGER NOT NULL,\n",
    "    open_price decimal(19,4) NULL,\n",
    "    high_price decimal(19,4) NULL,\n",
    "    low_price decimal(19,4) NULL,\n",
    "    close_price decimal(19,4) NULL,\n",
    "    adj_close_price decimal(19,4) NULL,\n",
    "    volume BIGINT NULL);\n",
    "\"\"\""
   ]
  },
  {
   "cell_type": "code",
   "execution_count": 3,
   "metadata": {},
   "outputs": [],
   "source": [
    "con = create_connection()\n",
    "create_table(con,create_table_sql=exchange)\n",
    "create_table(con,create_table_sql=data_vendor)\n",
    "create_table(con,create_table_sql =symbol)\n",
    "create_table(con,create_table_sql =daily_price)"
   ]
  },
  {
   "cell_type": "code",
   "execution_count": null,
   "metadata": {},
   "outputs": [],
   "source": []
  }
 ],
 "metadata": {
  "kernelspec": {
   "display_name": "Python 3",
   "language": "python",
   "name": "python3"
  },
  "language_info": {
   "codemirror_mode": {
    "name": "ipython",
    "version": 3
   },
   "file_extension": ".py",
   "mimetype": "text/x-python",
   "name": "python",
   "nbconvert_exporter": "python",
   "pygments_lexer": "ipython3",
   "version": "3.8.5"
  }
 },
 "nbformat": 4,
 "nbformat_minor": 4
}
