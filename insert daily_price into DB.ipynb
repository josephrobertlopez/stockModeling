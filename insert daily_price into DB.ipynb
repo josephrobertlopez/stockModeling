{
 "cells": [
  {
   "cell_type": "code",
   "execution_count": null,
   "metadata": {},
   "outputs": [],
   "source": [
    "from sqlite_methods import *\n",
    "import os\n",
    "import pandas as pd"
   ]
  },
  {
   "cell_type": "code",
   "execution_count": null,
   "metadata": {},
   "outputs": [],
   "source": [
    "def insert_snp500_data_price(con,price_points_list):\n",
    "    \"\"\"\n",
    "    Insert the S&P500 symbols into the MySQL database.\n",
    "    \"\"\"\n",
    "    clean_strs_for_DB_query(price_points)\n",
    "    table_vars = ['data_vendor_id','symbol_id','price_date','created_date',\n",
    "                  'last_updated_date','open_price','high_price','low_price',\n",
    "                  'close_price','adj_close_price','volume'] \n",
    "    insert_rows_query(con,\"daily_price\",table_vars,price_points_list)"
   ]
  },
  {
   "cell_type": "code",
   "execution_count": null,
   "metadata": {},
   "outputs": [],
   "source": [
    "ticketers = os.listdir('snp500')\n",
    "con = create_connection()\n",
    "ticks = dict()\n"
   ]
  },
  {
   "cell_type": "code",
   "execution_count": null,
   "metadata": {},
   "outputs": [],
   "source": [
    "for ticket in ticketers:\n",
    "    t=ticket\n",
    "    if t not in ticks:\n",
    "        df = pd.read_csv('snp500/'+ticket+'/data.csv')\n",
    "        try:\n",
    "            query =\"SELECT * FROM symbol WHERE ticketer='\"+ticket+\"'\"\n",
    "            tablerow = execute_query(con,query)\n",
    "            tablerow = tablerow[0]\n",
    "            price_points_list = list()\n",
    "            for row in df.iterrows():\n",
    "                row = row[1]\n",
    "                data_vendor_id = 1\n",
    "                symbol_id = tablerow[0]\n",
    "                price_date = datetime_to_timestamp(datetime.datetime.strptime(row[0][:-6], '%Y-%m-%d %H:%M:%S'))\n",
    "                created_date = datetime_to_timestamp(datetime.datetime.now())\n",
    "                last_updated_date = tablerow[8]\n",
    "                open_price = row[1]\n",
    "                high_price = row[2]\n",
    "                low_price = row[3]\n",
    "                close_price = row[4]\n",
    "                adj_close_price = 0\n",
    "                volume = row[5]\n",
    "                price_points_list.append([data_vendor_id,symbol_id,price_date,created_date,last_updated_date,\n",
    "                               open_price,high_price,low_price,close_price,adj_close_price,volume])\n",
    "            insert_snp500_data_price(con,price_points)\n",
    "        except:\n",
    "            pass\n",
    "        ticks[t] = df\n",
    "        print(t)"
   ]
  },
  {
   "cell_type": "code",
   "execution_count": null,
   "metadata": {},
   "outputs": [],
   "source": []
  },
  {
   "cell_type": "code",
   "execution_count": null,
   "metadata": {},
   "outputs": [],
   "source": [
    "con = create_connection()\n",
    "execute_query(con,\"SELECT * FROM daily_price\")"
   ]
  },
  {
   "cell_type": "code",
   "execution_count": null,
   "metadata": {},
   "outputs": [],
   "source": []
  }
 ],
 "metadata": {
  "kernelspec": {
   "display_name": "Python 3",
   "language": "python",
   "name": "python3"
  },
  "language_info": {
   "codemirror_mode": {
    "name": "ipython",
    "version": 3
   },
   "file_extension": ".py",
   "mimetype": "text/x-python",
   "name": "python",
   "nbconvert_exporter": "python",
   "pygments_lexer": "ipython3",
   "version": "3.8.5"
  }
 },
 "nbformat": 4,
 "nbformat_minor": 4
}
