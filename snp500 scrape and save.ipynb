{
 "cells": [
  {
   "cell_type": "code",
   "execution_count": null,
   "metadata": {},
   "outputs": [],
   "source": [
    "import requests\n",
    "import bs4\n",
    "import datetime\n",
    "from sqlite_methods import *\n",
    "def obtain_parse_wiki_snp500():\n",
    "    \"\"\"\n",
    "    Download and parse the Wikipedia list of S&P500\n",
    "    constituents using requests and BeautifulSoup.\n",
    "    Returns a list of tuples for to add to MySQL.\n",
    "    \"\"\"\n",
    "    # Stores the current time, for the created_at record\n",
    "    now = datetime.datetime.utcnow()\n",
    "    # Use requests and BeautifulSoup to download the\n",
    "    # list of S&P500 companies and obtain the symbol table\n",
    "    response = requests.get(\n",
    "    \"http://en.wikipedia.org/wiki/List_of_S%26P_500_companies\"\n",
    "    )\n",
    "    soup = bs4.BeautifulSoup(response.text)\n",
    "    # This selects the first table, using CSS Selector syntax\n",
    "    # and then ignores the header row ([1:])\n",
    "    symbolslist = soup.select(\"table\")[0].select(\"tr\")[1:]\n",
    "    # Obtain the symbol information for each\n",
    "    # row in the S&P500 constituent table\n",
    "    symbols = []\n",
    "    for i, symbol in enumerate(symbolslist):\n",
    "        tds = symbol.select(\"td\")\n",
    "        symbols.append(\n",
    "        (tds[0].select(\"a\")[0].text, # Ticker\n",
    "        \"stock\",\n",
    "        tds[1].select(\"a\")[0].text, # Name\n",
    "            tds[3].text, # Sector\n",
    "        \"USD\", now, now\n",
    "        )\n",
    "        )\n",
    "    return symbols\n",
    "\n",
    "def obtain_list_of_db_tickers():\n",
    "    \"\"\"\n",
    "    Obtains a list of the ticker symbols in the database.\n",
    "    \"\"\"\n",
    "    with con:\n",
    "        cur = con.cursor()\n",
    "        cur.execute(\"SELECT id, ticketer FROM symbol\")\n",
    "        data = cur.fetchall()\n",
    "    return [(d[0], d[1]) for d in data]"
   ]
  },
  {
   "cell_type": "code",
   "execution_count": null,
   "metadata": {},
   "outputs": [],
   "source": [
    "import yfinance as yf\n",
    "import pandas as pd\n",
    "con = create_connection()\n",
    "tickerSymbols = [t[1] for t in obtain_list_of_db_tickers()]\n",
    "daily_data = dict()\n",
    "ticker_data = dict()"
   ]
  },
  {
   "cell_type": "code",
   "execution_count": null,
   "metadata": {},
   "outputs": [],
   "source": [
    "#Scrape trade data for each stock\n",
    "for _,t in enumerate(tickerSymbols):\n",
    "    if t not in daily_data:\n",
    "        ticker = yf.Ticker(t)\n",
    "        temp = ticker.history(period='60d',interval='5m')\n",
    "        daily_data[t]=temp"
   ]
  },
  {
   "cell_type": "code",
   "execution_count": null,
   "metadata": {},
   "outputs": [],
   "source": [
    "#Scrape Ticketer metadata\n",
    "for _,t in enumerate(tickerSymbols):\n",
    "    if t not in ticker_data:\n",
    "        ticker=yf.Ticker(t)\n",
    "        temp = pd.DataFrame.from_dict(ticker.info,orient='index')\n",
    "        temp.reset_index(inplace=True)\n",
    "        temp.columns=['Attribute','Recent']\n",
    "        ticker_data[t]=temp"
   ]
  },
  {
   "cell_type": "code",
   "execution_count": null,
   "metadata": {},
   "outputs": [],
   "source": [
    "#Save all data\n",
    "if not os.path.exists('my_folder'):\n",
    "    os.makedirs('my_folder')\n",
    "for _,t in enumerate(tickerSymbols):\n",
    "    path='snp500'+'/'+t\n",
    "    try:\n",
    "        os.mkdir(path)\n",
    "    except:\n",
    "        pass\n",
    "    data = daily_data[t].reset_index()\n",
    "    ticker = ticker_data[t]\n",
    "    data.to_csv(path+'/'+'data.csv',index=False)\n",
    "    ticker.to_csv(path+'/'+'ticker.csv',index=False)"
   ]
  }
 ],
 "metadata": {
  "kernelspec": {
   "display_name": "Python 3",
   "language": "python",
   "name": "python3"
  },
  "language_info": {
   "codemirror_mode": {
    "name": "ipython",
    "version": 3
   },
   "file_extension": ".py",
   "mimetype": "text/x-python",
   "name": "python",
   "nbconvert_exporter": "python",
   "pygments_lexer": "ipython3",
   "version": "3.8.5"
  }
 },
 "nbformat": 4,
 "nbformat_minor": 4
}
